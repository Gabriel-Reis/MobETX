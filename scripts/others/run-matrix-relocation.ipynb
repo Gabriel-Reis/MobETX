{
 "cells": [
  {
   "cell_type": "markdown",
   "metadata": {},
   "source": [
    "# Imports"
   ]
  },
  {
   "cell_type": "code",
   "execution_count": 1,
   "metadata": {
    "collapsed": true
   },
   "outputs": [],
   "source": [
    "import logging\n",
    "reload(logging)\n",
    "logger = logging.getLogger(__name__)\n",
    "logging.basicConfig(format='%(asctime)s %(levelname)s:%(message)s', \n",
    "                    level=logging.INFO, \n",
    "                    datefmt='%I:%M:%S')"
   ]
  },
  {
   "cell_type": "code",
   "execution_count": 2,
   "metadata": {
    "collapsed": true
   },
   "outputs": [],
   "source": [
    "import xml.etree.ElementTree as ET\n",
    "from os import listdir, makedirs\n",
    "from os.path import isfile, join, exists\n",
    "import shutil\n",
    "from subprocess import call"
   ]
  },
  {
   "cell_type": "markdown",
   "metadata": {},
   "source": [
    "### building blocks"
   ]
  },
  {
   "cell_type": "code",
   "execution_count": 3,
   "metadata": {
    "collapsed": true
   },
   "outputs": [],
   "source": [
    "wdir = \"./\"\n",
    "simulation_XML = \"./experiments-matrix-101.csc\"\n",
    "N = 5"
   ]
  },
  {
   "cell_type": "markdown",
   "metadata": {},
   "source": [
    "### Code"
   ]
  },
  {
   "cell_type": "markdown",
   "metadata": {},
   "source": [
    "###### handle simulation csc xml file"
   ]
  },
  {
   "cell_type": "code",
   "execution_count": null,
   "metadata": {},
   "outputs": [
    {
     "name": "stderr",
     "output_type": "stream",
     "text": [
      "04:46:51 INFO:RUNNING THE SIMULATIONS FOR static-traces static.txt\n"
     ]
    },
    {
     "name": "stdout",
     "output_type": "stream",
     "text": [
      "sh RUN_REPEATED 2 experiments-matrix-101\n"
     ]
    },
    {
     "name": "stderr",
     "output_type": "stream",
     "text": [
      "04:47:00 INFO:CREATING OUTPUT LOG DIR ./logs/logs-static-traces-static/\n",
      "04:47:00 INFO:MOVING THE FOLLOWING FILES: to ./logs/logs-static-traces-static/experiments-matrix-101.cooja_log RUN_REPEATED_LAST.log\n",
      "04:47:00 INFO:SIMULATION FINISHED\n",
      "\n",
      "\n",
      "04:47:00 INFO:RUNNING THE SIMULATIONS FOR low-mob-traces 15.txt\n"
     ]
    },
    {
     "name": "stdout",
     "output_type": "stream",
     "text": [
      "sh RUN_REPEATED 2 experiments-matrix-101\n"
     ]
    },
    {
     "name": "stderr",
     "output_type": "stream",
     "text": [
      "04:47:03 INFO:CREATING OUTPUT LOG DIR ./logs/logs-low-mob-traces-15/\n",
      "04:47:03 INFO:SIMULATION FINISHED\n",
      "\n",
      "\n",
      "04:47:03 INFO:RUNNING THE SIMULATIONS FOR low-mob-traces 13.txt\n",
      "04:47:03 INFO:CREATING OUTPUT LOG DIR ./logs/logs-low-mob-traces-13/\n",
      "04:47:03 INFO:SIMULATION FINISHED\n",
      "\n",
      "\n",
      "04:47:03 INFO:RUNNING THE SIMULATIONS FOR low-mob-traces 7.txt\n"
     ]
    },
    {
     "name": "stdout",
     "output_type": "stream",
     "text": [
      "sh RUN_REPEATED 2 experiments-matrix-101\n",
      "sh RUN_REPEATED 2 experiments-matrix-101\n"
     ]
    },
    {
     "name": "stderr",
     "output_type": "stream",
     "text": [
      "04:47:03 INFO:CREATING OUTPUT LOG DIR ./logs/logs-low-mob-traces-7/\n",
      "04:47:03 INFO:SIMULATION FINISHED\n",
      "\n",
      "\n",
      "04:47:03 INFO:RUNNING THE SIMULATIONS FOR low-mob-traces 2.txt\n",
      "04:47:03 INFO:CREATING OUTPUT LOG DIR ./logs/logs-low-mob-traces-2/\n",
      "04:47:03 INFO:SIMULATION FINISHED\n",
      "\n",
      "\n",
      "04:47:03 INFO:RUNNING THE SIMULATIONS FOR low-mob-traces 14.txt\n"
     ]
    },
    {
     "name": "stdout",
     "output_type": "stream",
     "text": [
      "sh RUN_REPEATED 2 experiments-matrix-101\n",
      "sh RUN_REPEATED 2 experiments-matrix-101\n"
     ]
    },
    {
     "name": "stderr",
     "output_type": "stream",
     "text": [
      "04:47:03 INFO:CREATING OUTPUT LOG DIR ./logs/logs-low-mob-traces-14/\n",
      "04:47:03 INFO:SIMULATION FINISHED\n",
      "\n",
      "\n",
      "04:47:03 INFO:RUNNING THE SIMULATIONS FOR low-mob-traces 10.txt\n",
      "04:47:04 INFO:CREATING OUTPUT LOG DIR ./logs/logs-low-mob-traces-10/\n",
      "04:47:04 INFO:SIMULATION FINISHED\n",
      "\n",
      "\n",
      "04:47:04 INFO:RUNNING THE SIMULATIONS FOR low-mob-traces 12.txt\n"
     ]
    },
    {
     "name": "stdout",
     "output_type": "stream",
     "text": [
      "sh RUN_REPEATED 2 experiments-matrix-101\n",
      "sh RUN_REPEATED 2 experiments-matrix-101\n"
     ]
    },
    {
     "name": "stderr",
     "output_type": "stream",
     "text": [
      "04:47:04 INFO:CREATING OUTPUT LOG DIR ./logs/logs-low-mob-traces-12/\n",
      "04:47:04 INFO:SIMULATION FINISHED\n",
      "\n",
      "\n",
      "04:47:04 INFO:RUNNING THE SIMULATIONS FOR low-mob-traces 3.txt\n",
      "04:47:04 INFO:CREATING OUTPUT LOG DIR ./logs/logs-low-mob-traces-3/\n",
      "04:47:04 INFO:SIMULATION FINISHED\n",
      "\n",
      "\n",
      "04:47:04 INFO:RUNNING THE SIMULATIONS FOR low-mob-traces 4.txt\n"
     ]
    },
    {
     "name": "stdout",
     "output_type": "stream",
     "text": [
      "sh RUN_REPEATED 2 experiments-matrix-101\n",
      "sh RUN_REPEATED 2 experiments-matrix-101\n"
     ]
    },
    {
     "name": "stderr",
     "output_type": "stream",
     "text": [
      "04:47:04 INFO:CREATING OUTPUT LOG DIR ./logs/logs-low-mob-traces-4/\n",
      "04:47:04 INFO:SIMULATION FINISHED\n",
      "\n",
      "\n",
      "04:47:04 INFO:RUNNING THE SIMULATIONS FOR low-mob-traces 6.txt\n",
      "04:47:04 INFO:CREATING OUTPUT LOG DIR ./logs/logs-low-mob-traces-6/\n",
      "04:47:04 INFO:SIMULATION FINISHED\n",
      "\n",
      "\n",
      "04:47:04 INFO:RUNNING THE SIMULATIONS FOR low-mob-traces 11.txt\n"
     ]
    },
    {
     "name": "stdout",
     "output_type": "stream",
     "text": [
      "sh RUN_REPEATED 2 experiments-matrix-101\n",
      "sh RUN_REPEATED 2 experiments-matrix-101\n"
     ]
    },
    {
     "name": "stderr",
     "output_type": "stream",
     "text": [
      "04:47:04 INFO:CREATING OUTPUT LOG DIR ./logs/logs-low-mob-traces-11/\n",
      "04:47:04 INFO:SIMULATION FINISHED\n",
      "\n",
      "\n",
      "04:47:04 INFO:RUNNING THE SIMULATIONS FOR low-mob-traces 5.txt\n"
     ]
    },
    {
     "name": "stdout",
     "output_type": "stream",
     "text": [
      "sh RUN_REPEATED 2 experiments-matrix-101\n"
     ]
    }
   ],
   "source": [
    "tracesDir = [f for f in listdir(wdir) if \"traces\" in f.split('-')]\n",
    "#print tracesDir\n",
    "for td in tracesDir:\n",
    "    \n",
    "    onlyfiles = [f for f in listdir(wdir + td) if isfile(join(wdir + td, f))]\n",
    "    #print onlyfiles\n",
    "    \n",
    "    for trace in onlyfiles:\n",
    "        xmlTree = ET.parse(simulation_XML)\n",
    "        plugins = xmlTree.findall(\"plugin\")\n",
    "\n",
    "        for p in plugins:\n",
    "            if \"Mobility\" in p.text:\n",
    "                #print p.tag, p.attrib, p.text\n",
    "                #print dir(p)\n",
    "                #print p.find(\"plugin_config\").find(\"positions\").text\n",
    "                #print p.find(\"plugin_config\").find(\"positions\").text.split(\"/\")\n",
    "                #print \"/\".join(p.find(\"plugin_config\").find(\"positions\").text.split(\"/\")[:-2]) + \"/\" + td + \"/\" + trace\n",
    "                new_trace = \"/\".join(p.find(\"plugin_config\").find(\"positions\").text.split(\"/\")[:-2]) + \"/\" + td + \"/\" + trace\n",
    "                p.find(\"plugin_config\").find(\"positions\").text = new_trace\n",
    "                \n",
    "                xmlTree.write(simulation_XML)\n",
    "        \n",
    "        logging.info(\"RUNNING THE SIMULATIONS FOR \" + td + \" \" + trace)\n",
    "        command = \"sh RUN_REPEATED \"+ str(N) + \" \" + simulation_XML[2:-4]\n",
    "        print command\n",
    "        try:\n",
    "            import os\n",
    "            os.system(command)\n",
    "            #call(command)\n",
    "            #call(\"ls\")\n",
    "        except:\n",
    "            logging.error(\"The command \"+command+\" couldn't be called.\\n\")\n",
    "            \n",
    "        output_dir = wdir + \"logs/\" +  \"-\".join([\"logs\", td, trace[:-4]]) + \"/\"\n",
    "        logging.info(\"CREATING OUTPUT LOG DIR \" + output_dir)\n",
    "        \n",
    "        if not exists(output_dir):\n",
    "            makedirs(output_dir)\n",
    "        \n",
    "        logfiles = [f for f in listdir(wdir) if isfile(join(wdir, f)) and \"log\" in f]\n",
    "        \n",
    "        if len(logfiles) > 0:\n",
    "            logging.info(\"MOVING THE FOLLOWING FILES: to \" + output_dir + \" \".join(logfiles) )\n",
    "\n",
    "            for logf in logfiles:\n",
    "                shutil.move(wdir + logf, output_dir)\n",
    "        \n",
    "        \n",
    "        logging.info(\"SIMULATION FINISHED\\n\\n\")\n",
    "        #break \n",
    "    #break"
   ]
  }
 ],
 "metadata": {
  "kernelspec": {
   "display_name": "Python 2",
   "language": "python",
   "name": "python2"
  },
  "language_info": {
   "codemirror_mode": {
    "name": "ipython",
    "version": 2
   },
   "file_extension": ".py",
   "mimetype": "text/x-python",
   "name": "python",
   "nbconvert_exporter": "python",
   "pygments_lexer": "ipython2",
   "version": "2.7.12"
  }
 },
 "nbformat": 4,
 "nbformat_minor": 1
}
